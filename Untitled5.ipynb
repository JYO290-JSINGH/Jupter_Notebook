{
 "cells": [
  {
   "cell_type": "code",
   "execution_count": null,
   "id": "869ca962-8c0f-4acf-ba8a-66bf6e5ed520",
   "metadata": {},
   "outputs": [],
   "source": [
    "# Q1. What is Python, and why is it popular?\n",
    "Answer: Python is an easy-to-learn programming language used for many tasks like web development, data analysis, and automation. It is popular because it's simple, flexible, and has a large supportive community with lots of helpful tools.\n",
    "\n",
    "#Q2. What is an interpreter in Python?\n",
    "Answer:  An interpreter in Python is a tool that reads and runs your Python code directly, one line at a time. It translates your code into actions that the computer can understand and perform right away. This makes it easier to see results quickly.\n",
    "\n",
    "#Q3. What are pre-defined keywords in Python?\n",
    "\n",
    "Answer: Pre-defined keywords in Python are special words that have a specific meaning and are reserved by the language. These words cannot be used as names for variables, functions, or other identifiers. Examples include words like if, else, while, for, and def. They are used to define the structure and behavior of Python code.\n",
    "\n",
    "#Q4. Can keywords be used as variable names?\n",
    "\n",
    "Answer: No, keywords cannot be used as variable names in Python. They are reserved words with special meanings, like if, else, and for, and using them as variable names would cause an error.\n",
    "\n",
    "#Q5. What is mutability in Python?\n",
    "\n"
   ]
  }
 ],
 "metadata": {
  "kernelspec": {
   "display_name": "Python [conda env:base] *",
   "language": "python",
   "name": "conda-base-py"
  },
  "language_info": {
   "codemirror_mode": {
    "name": "ipython",
    "version": 3
   },
   "file_extension": ".py",
   "mimetype": "text/x-python",
   "name": "python",
   "nbconvert_exporter": "python",
   "pygments_lexer": "ipython3",
   "version": "3.12.7"
  }
 },
 "nbformat": 4,
 "nbformat_minor": 5
}
